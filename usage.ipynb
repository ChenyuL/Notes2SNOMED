{
 "cells": [
  {
   "cell_type": "markdown",
   "id": "3aebf276-0135-44b2-88cd-e919f32e937d",
   "metadata": {},
   "source": [
    "# SnomedGraph\n",
    "\n",
    "Turns a SNOMED CT concept set into a graph."
   ]
  },
  {
   "cell_type": "code",
   "execution_count": 1,
   "id": "41669509-5e4a-4c0b-9d46-64da7b7cbc72",
   "metadata": {},
   "outputs": [],
   "source": [
    "from snomed_graph import *"
   ]
  },
  {
   "cell_type": "code",
   "execution_count": 6,
   "id": "3d1155a6-fe70-4ee1-92c4-623cf13cfbe5",
   "metadata": {
    "scrolled": true
   },
   "outputs": [
    {
     "ename": "FileNotFoundError",
     "evalue": "[Errno 2] No such file or directory: 'SnomedCT_InternationalRF2_PRODUCTION_20230531T120000Z_Challenge_Edition/Snapshot/Terminology/sct2_Relationship_Snapshot_INT_20230531.txt'",
     "output_type": "error",
     "traceback": [
      "\u001b[0;31m---------------------------------------------------------------------------\u001b[0m",
      "\u001b[0;31mFileNotFoundError\u001b[0m                         Traceback (most recent call last)",
      "Cell \u001b[0;32mIn[6], line 3\u001b[0m\n\u001b[1;32m      1\u001b[0m \u001b[38;5;28;01mfrom\u001b[39;00m \u001b[38;5;21;01msnomed_graph\u001b[39;00m \u001b[38;5;28;01mimport\u001b[39;00m SnomedGraph \n\u001b[0;32m----> 3\u001b[0m SG \u001b[38;5;241m=\u001b[39m \u001b[43mSnomedGraph\u001b[49m\u001b[38;5;241;43m.\u001b[39;49m\u001b[43mfrom_rf2\u001b[49m\u001b[43m(\u001b[49m\u001b[38;5;124;43m\"\u001b[39;49m\u001b[38;5;124;43mSnomedCT_InternationalRF2_PRODUCTION_20230531T120000Z_Challenge_Edition\u001b[39;49m\u001b[38;5;124;43m\"\u001b[39;49m\u001b[43m)\u001b[49m \n\u001b[1;32m      5\u001b[0m SG\u001b[38;5;241m.\u001b[39mget_descendants(\u001b[38;5;241m71388002\u001b[39m) \u001b[38;5;241m|\u001b[39m SG\u001b[38;5;241m.\u001b[39mget_descendants(\u001b[38;5;241m123037004\u001b[39m) \u001b[38;5;241m|\u001b[39m SG\u001b[38;5;241m.\u001b[39mget_descendants(\u001b[38;5;241m404684003\u001b[39m) \n",
      "File \u001b[0;32m~/My_Pitt/StructredNotes/Notes2SNOMED/snomed_graph.py:396\u001b[0m, in \u001b[0;36mSnomedGraph.from_rf2\u001b[0;34m(path)\u001b[0m\n\u001b[1;32m    391\u001b[0m     \u001b[38;5;28;01mraise\u001b[39;00m \u001b[38;5;167;01mAssertionError\u001b[39;00m(\n\u001b[1;32m    392\u001b[0m         \u001b[38;5;124mf\u001b[39m\u001b[38;5;124m\"\u001b[39m\u001b[38;5;124mThe path does not appear to contain a valid SNOMED CT Release Format name.\u001b[39m\u001b[38;5;124m\"\u001b[39m\n\u001b[1;32m    393\u001b[0m     )\n\u001b[1;32m    394\u001b[0m \u001b[38;5;28;01melse\u001b[39;00m:\n\u001b[1;32m    395\u001b[0m     \u001b[38;5;66;03m# Load relationships\u001b[39;00m\n\u001b[0;32m--> 396\u001b[0m     relationships_df \u001b[38;5;241m=\u001b[39m \u001b[43mpd\u001b[49m\u001b[38;5;241;43m.\u001b[39;49m\u001b[43mread_csv\u001b[49m\u001b[43m(\u001b[49m\n\u001b[1;32m    397\u001b[0m \u001b[43m        \u001b[49m\u001b[38;5;124;43mf\u001b[39;49m\u001b[38;5;124;43m\"\u001b[39;49m\u001b[38;5;132;43;01m{\u001b[39;49;00m\u001b[43mpath\u001b[49m\u001b[38;5;132;43;01m}\u001b[39;49;00m\u001b[38;5;124;43m/Snapshot/Terminology/sct2_Relationship_Snapshot_INT_\u001b[39;49m\u001b[38;5;132;43;01m{\u001b[39;49;00m\u001b[43mrelease_date\u001b[49m\u001b[38;5;132;43;01m}\u001b[39;49;00m\u001b[38;5;124;43m.txt\u001b[39;49m\u001b[38;5;124;43m\"\u001b[39;49m\u001b[43m,\u001b[49m\u001b[43m \u001b[49m\n\u001b[1;32m    398\u001b[0m \u001b[43m        \u001b[49m\u001b[43mdelimiter\u001b[49m\u001b[38;5;241;43m=\u001b[39;49m\u001b[38;5;124;43m\"\u001b[39;49m\u001b[38;5;130;43;01m\\t\u001b[39;49;00m\u001b[38;5;124;43m\"\u001b[39;49m\n\u001b[1;32m    399\u001b[0m \u001b[43m    \u001b[49m\u001b[43m)\u001b[49m\n\u001b[1;32m    400\u001b[0m     relationships_df \u001b[38;5;241m=\u001b[39m relationships_df[relationships_df\u001b[38;5;241m.\u001b[39mactive \u001b[38;5;241m==\u001b[39m \u001b[38;5;241m1\u001b[39m]\n\u001b[1;32m    402\u001b[0m     \u001b[38;5;66;03m# Load concepts\u001b[39;00m\n",
      "File \u001b[0;32m~/anaconda3/envs/py3/lib/python3.11/site-packages/pandas/io/parsers/readers.py:948\u001b[0m, in \u001b[0;36mread_csv\u001b[0;34m(filepath_or_buffer, sep, delimiter, header, names, index_col, usecols, dtype, engine, converters, true_values, false_values, skipinitialspace, skiprows, skipfooter, nrows, na_values, keep_default_na, na_filter, verbose, skip_blank_lines, parse_dates, infer_datetime_format, keep_date_col, date_parser, date_format, dayfirst, cache_dates, iterator, chunksize, compression, thousands, decimal, lineterminator, quotechar, quoting, doublequote, escapechar, comment, encoding, encoding_errors, dialect, on_bad_lines, delim_whitespace, low_memory, memory_map, float_precision, storage_options, dtype_backend)\u001b[0m\n\u001b[1;32m    935\u001b[0m kwds_defaults \u001b[38;5;241m=\u001b[39m _refine_defaults_read(\n\u001b[1;32m    936\u001b[0m     dialect,\n\u001b[1;32m    937\u001b[0m     delimiter,\n\u001b[0;32m   (...)\u001b[0m\n\u001b[1;32m    944\u001b[0m     dtype_backend\u001b[38;5;241m=\u001b[39mdtype_backend,\n\u001b[1;32m    945\u001b[0m )\n\u001b[1;32m    946\u001b[0m kwds\u001b[38;5;241m.\u001b[39mupdate(kwds_defaults)\n\u001b[0;32m--> 948\u001b[0m \u001b[38;5;28;01mreturn\u001b[39;00m \u001b[43m_read\u001b[49m\u001b[43m(\u001b[49m\u001b[43mfilepath_or_buffer\u001b[49m\u001b[43m,\u001b[49m\u001b[43m \u001b[49m\u001b[43mkwds\u001b[49m\u001b[43m)\u001b[49m\n",
      "File \u001b[0;32m~/anaconda3/envs/py3/lib/python3.11/site-packages/pandas/io/parsers/readers.py:611\u001b[0m, in \u001b[0;36m_read\u001b[0;34m(filepath_or_buffer, kwds)\u001b[0m\n\u001b[1;32m    608\u001b[0m _validate_names(kwds\u001b[38;5;241m.\u001b[39mget(\u001b[38;5;124m\"\u001b[39m\u001b[38;5;124mnames\u001b[39m\u001b[38;5;124m\"\u001b[39m, \u001b[38;5;28;01mNone\u001b[39;00m))\n\u001b[1;32m    610\u001b[0m \u001b[38;5;66;03m# Create the parser.\u001b[39;00m\n\u001b[0;32m--> 611\u001b[0m parser \u001b[38;5;241m=\u001b[39m \u001b[43mTextFileReader\u001b[49m\u001b[43m(\u001b[49m\u001b[43mfilepath_or_buffer\u001b[49m\u001b[43m,\u001b[49m\u001b[43m \u001b[49m\u001b[38;5;241;43m*\u001b[39;49m\u001b[38;5;241;43m*\u001b[39;49m\u001b[43mkwds\u001b[49m\u001b[43m)\u001b[49m\n\u001b[1;32m    613\u001b[0m \u001b[38;5;28;01mif\u001b[39;00m chunksize \u001b[38;5;129;01mor\u001b[39;00m iterator:\n\u001b[1;32m    614\u001b[0m     \u001b[38;5;28;01mreturn\u001b[39;00m parser\n",
      "File \u001b[0;32m~/anaconda3/envs/py3/lib/python3.11/site-packages/pandas/io/parsers/readers.py:1448\u001b[0m, in \u001b[0;36mTextFileReader.__init__\u001b[0;34m(self, f, engine, **kwds)\u001b[0m\n\u001b[1;32m   1445\u001b[0m     \u001b[38;5;28mself\u001b[39m\u001b[38;5;241m.\u001b[39moptions[\u001b[38;5;124m\"\u001b[39m\u001b[38;5;124mhas_index_names\u001b[39m\u001b[38;5;124m\"\u001b[39m] \u001b[38;5;241m=\u001b[39m kwds[\u001b[38;5;124m\"\u001b[39m\u001b[38;5;124mhas_index_names\u001b[39m\u001b[38;5;124m\"\u001b[39m]\n\u001b[1;32m   1447\u001b[0m \u001b[38;5;28mself\u001b[39m\u001b[38;5;241m.\u001b[39mhandles: IOHandles \u001b[38;5;241m|\u001b[39m \u001b[38;5;28;01mNone\u001b[39;00m \u001b[38;5;241m=\u001b[39m \u001b[38;5;28;01mNone\u001b[39;00m\n\u001b[0;32m-> 1448\u001b[0m \u001b[38;5;28mself\u001b[39m\u001b[38;5;241m.\u001b[39m_engine \u001b[38;5;241m=\u001b[39m \u001b[38;5;28;43mself\u001b[39;49m\u001b[38;5;241;43m.\u001b[39;49m\u001b[43m_make_engine\u001b[49m\u001b[43m(\u001b[49m\u001b[43mf\u001b[49m\u001b[43m,\u001b[49m\u001b[43m \u001b[49m\u001b[38;5;28;43mself\u001b[39;49m\u001b[38;5;241;43m.\u001b[39;49m\u001b[43mengine\u001b[49m\u001b[43m)\u001b[49m\n",
      "File \u001b[0;32m~/anaconda3/envs/py3/lib/python3.11/site-packages/pandas/io/parsers/readers.py:1705\u001b[0m, in \u001b[0;36mTextFileReader._make_engine\u001b[0;34m(self, f, engine)\u001b[0m\n\u001b[1;32m   1703\u001b[0m     \u001b[38;5;28;01mif\u001b[39;00m \u001b[38;5;124m\"\u001b[39m\u001b[38;5;124mb\u001b[39m\u001b[38;5;124m\"\u001b[39m \u001b[38;5;129;01mnot\u001b[39;00m \u001b[38;5;129;01min\u001b[39;00m mode:\n\u001b[1;32m   1704\u001b[0m         mode \u001b[38;5;241m+\u001b[39m\u001b[38;5;241m=\u001b[39m \u001b[38;5;124m\"\u001b[39m\u001b[38;5;124mb\u001b[39m\u001b[38;5;124m\"\u001b[39m\n\u001b[0;32m-> 1705\u001b[0m \u001b[38;5;28mself\u001b[39m\u001b[38;5;241m.\u001b[39mhandles \u001b[38;5;241m=\u001b[39m \u001b[43mget_handle\u001b[49m\u001b[43m(\u001b[49m\n\u001b[1;32m   1706\u001b[0m \u001b[43m    \u001b[49m\u001b[43mf\u001b[49m\u001b[43m,\u001b[49m\n\u001b[1;32m   1707\u001b[0m \u001b[43m    \u001b[49m\u001b[43mmode\u001b[49m\u001b[43m,\u001b[49m\n\u001b[1;32m   1708\u001b[0m \u001b[43m    \u001b[49m\u001b[43mencoding\u001b[49m\u001b[38;5;241;43m=\u001b[39;49m\u001b[38;5;28;43mself\u001b[39;49m\u001b[38;5;241;43m.\u001b[39;49m\u001b[43moptions\u001b[49m\u001b[38;5;241;43m.\u001b[39;49m\u001b[43mget\u001b[49m\u001b[43m(\u001b[49m\u001b[38;5;124;43m\"\u001b[39;49m\u001b[38;5;124;43mencoding\u001b[39;49m\u001b[38;5;124;43m\"\u001b[39;49m\u001b[43m,\u001b[49m\u001b[43m \u001b[49m\u001b[38;5;28;43;01mNone\u001b[39;49;00m\u001b[43m)\u001b[49m\u001b[43m,\u001b[49m\n\u001b[1;32m   1709\u001b[0m \u001b[43m    \u001b[49m\u001b[43mcompression\u001b[49m\u001b[38;5;241;43m=\u001b[39;49m\u001b[38;5;28;43mself\u001b[39;49m\u001b[38;5;241;43m.\u001b[39;49m\u001b[43moptions\u001b[49m\u001b[38;5;241;43m.\u001b[39;49m\u001b[43mget\u001b[49m\u001b[43m(\u001b[49m\u001b[38;5;124;43m\"\u001b[39;49m\u001b[38;5;124;43mcompression\u001b[39;49m\u001b[38;5;124;43m\"\u001b[39;49m\u001b[43m,\u001b[49m\u001b[43m \u001b[49m\u001b[38;5;28;43;01mNone\u001b[39;49;00m\u001b[43m)\u001b[49m\u001b[43m,\u001b[49m\n\u001b[1;32m   1710\u001b[0m \u001b[43m    \u001b[49m\u001b[43mmemory_map\u001b[49m\u001b[38;5;241;43m=\u001b[39;49m\u001b[38;5;28;43mself\u001b[39;49m\u001b[38;5;241;43m.\u001b[39;49m\u001b[43moptions\u001b[49m\u001b[38;5;241;43m.\u001b[39;49m\u001b[43mget\u001b[49m\u001b[43m(\u001b[49m\u001b[38;5;124;43m\"\u001b[39;49m\u001b[38;5;124;43mmemory_map\u001b[39;49m\u001b[38;5;124;43m\"\u001b[39;49m\u001b[43m,\u001b[49m\u001b[43m \u001b[49m\u001b[38;5;28;43;01mFalse\u001b[39;49;00m\u001b[43m)\u001b[49m\u001b[43m,\u001b[49m\n\u001b[1;32m   1711\u001b[0m \u001b[43m    \u001b[49m\u001b[43mis_text\u001b[49m\u001b[38;5;241;43m=\u001b[39;49m\u001b[43mis_text\u001b[49m\u001b[43m,\u001b[49m\n\u001b[1;32m   1712\u001b[0m \u001b[43m    \u001b[49m\u001b[43merrors\u001b[49m\u001b[38;5;241;43m=\u001b[39;49m\u001b[38;5;28;43mself\u001b[39;49m\u001b[38;5;241;43m.\u001b[39;49m\u001b[43moptions\u001b[49m\u001b[38;5;241;43m.\u001b[39;49m\u001b[43mget\u001b[49m\u001b[43m(\u001b[49m\u001b[38;5;124;43m\"\u001b[39;49m\u001b[38;5;124;43mencoding_errors\u001b[39;49m\u001b[38;5;124;43m\"\u001b[39;49m\u001b[43m,\u001b[49m\u001b[43m \u001b[49m\u001b[38;5;124;43m\"\u001b[39;49m\u001b[38;5;124;43mstrict\u001b[39;49m\u001b[38;5;124;43m\"\u001b[39;49m\u001b[43m)\u001b[49m\u001b[43m,\u001b[49m\n\u001b[1;32m   1713\u001b[0m \u001b[43m    \u001b[49m\u001b[43mstorage_options\u001b[49m\u001b[38;5;241;43m=\u001b[39;49m\u001b[38;5;28;43mself\u001b[39;49m\u001b[38;5;241;43m.\u001b[39;49m\u001b[43moptions\u001b[49m\u001b[38;5;241;43m.\u001b[39;49m\u001b[43mget\u001b[49m\u001b[43m(\u001b[49m\u001b[38;5;124;43m\"\u001b[39;49m\u001b[38;5;124;43mstorage_options\u001b[39;49m\u001b[38;5;124;43m\"\u001b[39;49m\u001b[43m,\u001b[49m\u001b[43m \u001b[49m\u001b[38;5;28;43;01mNone\u001b[39;49;00m\u001b[43m)\u001b[49m\u001b[43m,\u001b[49m\n\u001b[1;32m   1714\u001b[0m \u001b[43m\u001b[49m\u001b[43m)\u001b[49m\n\u001b[1;32m   1715\u001b[0m \u001b[38;5;28;01massert\u001b[39;00m \u001b[38;5;28mself\u001b[39m\u001b[38;5;241m.\u001b[39mhandles \u001b[38;5;129;01mis\u001b[39;00m \u001b[38;5;129;01mnot\u001b[39;00m \u001b[38;5;28;01mNone\u001b[39;00m\n\u001b[1;32m   1716\u001b[0m f \u001b[38;5;241m=\u001b[39m \u001b[38;5;28mself\u001b[39m\u001b[38;5;241m.\u001b[39mhandles\u001b[38;5;241m.\u001b[39mhandle\n",
      "File \u001b[0;32m~/anaconda3/envs/py3/lib/python3.11/site-packages/pandas/io/common.py:863\u001b[0m, in \u001b[0;36mget_handle\u001b[0;34m(path_or_buf, mode, encoding, compression, memory_map, is_text, errors, storage_options)\u001b[0m\n\u001b[1;32m    858\u001b[0m \u001b[38;5;28;01melif\u001b[39;00m \u001b[38;5;28misinstance\u001b[39m(handle, \u001b[38;5;28mstr\u001b[39m):\n\u001b[1;32m    859\u001b[0m     \u001b[38;5;66;03m# Check whether the filename is to be opened in binary mode.\u001b[39;00m\n\u001b[1;32m    860\u001b[0m     \u001b[38;5;66;03m# Binary mode does not support 'encoding' and 'newline'.\u001b[39;00m\n\u001b[1;32m    861\u001b[0m     \u001b[38;5;28;01mif\u001b[39;00m ioargs\u001b[38;5;241m.\u001b[39mencoding \u001b[38;5;129;01mand\u001b[39;00m \u001b[38;5;124m\"\u001b[39m\u001b[38;5;124mb\u001b[39m\u001b[38;5;124m\"\u001b[39m \u001b[38;5;129;01mnot\u001b[39;00m \u001b[38;5;129;01min\u001b[39;00m ioargs\u001b[38;5;241m.\u001b[39mmode:\n\u001b[1;32m    862\u001b[0m         \u001b[38;5;66;03m# Encoding\u001b[39;00m\n\u001b[0;32m--> 863\u001b[0m         handle \u001b[38;5;241m=\u001b[39m \u001b[38;5;28;43mopen\u001b[39;49m\u001b[43m(\u001b[49m\n\u001b[1;32m    864\u001b[0m \u001b[43m            \u001b[49m\u001b[43mhandle\u001b[49m\u001b[43m,\u001b[49m\n\u001b[1;32m    865\u001b[0m \u001b[43m            \u001b[49m\u001b[43mioargs\u001b[49m\u001b[38;5;241;43m.\u001b[39;49m\u001b[43mmode\u001b[49m\u001b[43m,\u001b[49m\n\u001b[1;32m    866\u001b[0m \u001b[43m            \u001b[49m\u001b[43mencoding\u001b[49m\u001b[38;5;241;43m=\u001b[39;49m\u001b[43mioargs\u001b[49m\u001b[38;5;241;43m.\u001b[39;49m\u001b[43mencoding\u001b[49m\u001b[43m,\u001b[49m\n\u001b[1;32m    867\u001b[0m \u001b[43m            \u001b[49m\u001b[43merrors\u001b[49m\u001b[38;5;241;43m=\u001b[39;49m\u001b[43merrors\u001b[49m\u001b[43m,\u001b[49m\n\u001b[1;32m    868\u001b[0m \u001b[43m            \u001b[49m\u001b[43mnewline\u001b[49m\u001b[38;5;241;43m=\u001b[39;49m\u001b[38;5;124;43m\"\u001b[39;49m\u001b[38;5;124;43m\"\u001b[39;49m\u001b[43m,\u001b[49m\n\u001b[1;32m    869\u001b[0m \u001b[43m        \u001b[49m\u001b[43m)\u001b[49m\n\u001b[1;32m    870\u001b[0m     \u001b[38;5;28;01melse\u001b[39;00m:\n\u001b[1;32m    871\u001b[0m         \u001b[38;5;66;03m# Binary mode\u001b[39;00m\n\u001b[1;32m    872\u001b[0m         handle \u001b[38;5;241m=\u001b[39m \u001b[38;5;28mopen\u001b[39m(handle, ioargs\u001b[38;5;241m.\u001b[39mmode)\n",
      "\u001b[0;31mFileNotFoundError\u001b[0m: [Errno 2] No such file or directory: 'SnomedCT_InternationalRF2_PRODUCTION_20230531T120000Z_Challenge_Edition/Snapshot/Terminology/sct2_Relationship_Snapshot_INT_20230531.txt'"
     ]
    }
   ],
   "source": [
    "from snomed_graph import SnomedGraph \n",
    "\n",
    "SG = SnomedGraph.from_rf2(\"SnomedCT_InternationalRF2_PRODUCTION_20230531T120000Z_Challenge_Edition\") \n",
    "\n",
    "SG.get_descendants(71388002) | SG.get_descendants(123037004) | SG.get_descendants(404684003) "
   ]
  },
  {
   "cell_type": "code",
   "execution_count": 3,
   "id": "dbbdbe2b-891f-49bc-94be-9be00232fa4a",
   "metadata": {},
   "outputs": [
    {
     "ename": "FileNotFoundError",
     "evalue": "[Errno 2] No such file or directory: 'full_concept_graph.gml'",
     "output_type": "error",
     "traceback": [
      "\u001b[0;31m---------------------------------------------------------------------------\u001b[0m",
      "\u001b[0;31mFileNotFoundError\u001b[0m                         Traceback (most recent call last)",
      "Cell \u001b[0;32mIn[3], line 2\u001b[0m\n\u001b[1;32m      1\u001b[0m \u001b[38;5;66;03m# Load from a previously serialised SnomedGraph\u001b[39;00m\n\u001b[0;32m----> 2\u001b[0m SG \u001b[38;5;241m=\u001b[39m \u001b[43mSnomedGraph\u001b[49m\u001b[38;5;241;43m.\u001b[39;49m\u001b[43mfrom_serialized\u001b[49m\u001b[43m(\u001b[49m\u001b[38;5;124;43m\"\u001b[39;49m\u001b[38;5;124;43mfull_concept_graph.gml\u001b[39;49m\u001b[38;5;124;43m\"\u001b[39;49m\u001b[43m)\u001b[49m\n",
      "File \u001b[0;32m~/My_Pitt/StructredNotes/Notes2SNOMED/snomed_graph.py:371\u001b[0m, in \u001b[0;36mSnomedGraph.from_serialized\u001b[0;34m(path)\u001b[0m\n\u001b[1;32m    361\u001b[0m \u001b[38;5;129m@staticmethod\u001b[39m\n\u001b[1;32m    362\u001b[0m \u001b[38;5;28;01mdef\u001b[39;00m \u001b[38;5;21mfrom_serialized\u001b[39m(path: \u001b[38;5;28mstr\u001b[39m):\n\u001b[1;32m    363\u001b[0m \u001b[38;5;250m    \u001b[39m\u001b[38;5;124;03m\"\"\"\u001b[39;00m\n\u001b[1;32m    364\u001b[0m \u001b[38;5;124;03m    Load a SnomedGraph from a serialization.\u001b[39;00m\n\u001b[1;32m    365\u001b[0m \u001b[38;5;124;03m\u001b[39;00m\n\u001b[0;32m   (...)\u001b[0m\n\u001b[1;32m    369\u001b[0m \u001b[38;5;124;03m        A SnomedGraph\u001b[39;00m\n\u001b[1;32m    370\u001b[0m \u001b[38;5;124;03m    \"\"\"\u001b[39;00m            \n\u001b[0;32m--> 371\u001b[0m     G \u001b[38;5;241m=\u001b[39m \u001b[43mnx\u001b[49m\u001b[38;5;241;43m.\u001b[39;49m\u001b[43mread_gml\u001b[49m\u001b[43m(\u001b[49m\u001b[43mpath\u001b[49m\u001b[43m,\u001b[49m\u001b[43m \u001b[49m\u001b[43mdestringizer\u001b[49m\u001b[38;5;241;43m=\u001b[39;49m\u001b[38;5;28;43mint\u001b[39;49m\u001b[43m)\u001b[49m\n\u001b[1;32m    372\u001b[0m     \u001b[38;5;28;01mreturn\u001b[39;00m SnomedGraph(G)\n",
      "File \u001b[0;32m~/anaconda3/envs/py3/lib/python3.11/site-packages/networkx/utils/decorators.py:766\u001b[0m, in \u001b[0;36margmap.__call__.<locals>.func\u001b[0;34m(_argmap__wrapper, *args, **kwargs)\u001b[0m\n\u001b[1;32m    765\u001b[0m \u001b[38;5;28;01mdef\u001b[39;00m \u001b[38;5;21mfunc\u001b[39m(\u001b[38;5;241m*\u001b[39margs, __wrapper\u001b[38;5;241m=\u001b[39m\u001b[38;5;28;01mNone\u001b[39;00m, \u001b[38;5;241m*\u001b[39m\u001b[38;5;241m*\u001b[39mkwargs):\n\u001b[0;32m--> 766\u001b[0m     \u001b[38;5;28;01mreturn\u001b[39;00m \u001b[43margmap\u001b[49m\u001b[38;5;241;43m.\u001b[39;49m\u001b[43m_lazy_compile\u001b[49m\u001b[43m(\u001b[49m\u001b[43m__wrapper\u001b[49m\u001b[43m)\u001b[49m\u001b[43m(\u001b[49m\u001b[38;5;241;43m*\u001b[39;49m\u001b[43margs\u001b[49m\u001b[43m,\u001b[49m\u001b[43m \u001b[49m\u001b[38;5;241;43m*\u001b[39;49m\u001b[38;5;241;43m*\u001b[39;49m\u001b[43mkwargs\u001b[49m\u001b[43m)\u001b[49m\n",
      "File \u001b[0;32m<class 'networkx.utils.decorators.argmap'> compilation 5:3\u001b[0m, in \u001b[0;36margmap_read_gml_1\u001b[0;34m(path, label, destringizer)\u001b[0m\n\u001b[1;32m      1\u001b[0m \u001b[38;5;28;01mimport\u001b[39;00m \u001b[38;5;21;01mbz2\u001b[39;00m\n\u001b[1;32m      2\u001b[0m \u001b[38;5;28;01mimport\u001b[39;00m \u001b[38;5;21;01mcollections\u001b[39;00m\n\u001b[0;32m----> 3\u001b[0m \u001b[38;5;28;01mimport\u001b[39;00m \u001b[38;5;21;01mgzip\u001b[39;00m\n\u001b[1;32m      4\u001b[0m \u001b[38;5;28;01mimport\u001b[39;00m \u001b[38;5;21;01minspect\u001b[39;00m\n\u001b[1;32m      5\u001b[0m \u001b[38;5;28;01mimport\u001b[39;00m \u001b[38;5;21;01mitertools\u001b[39;00m\n",
      "File \u001b[0;32m~/anaconda3/envs/py3/lib/python3.11/site-packages/networkx/utils/decorators.py:189\u001b[0m, in \u001b[0;36mopen_file.<locals>._open_file\u001b[0;34m(path)\u001b[0m\n\u001b[1;32m    185\u001b[0m \u001b[38;5;28;01melse\u001b[39;00m:\n\u001b[1;32m    186\u001b[0m     \u001b[38;5;66;03m# could be None, or a file handle, in which case the algorithm will deal with it\u001b[39;00m\n\u001b[1;32m    187\u001b[0m     \u001b[38;5;28;01mreturn\u001b[39;00m path, \u001b[38;5;28;01mlambda\u001b[39;00m: \u001b[38;5;28;01mNone\u001b[39;00m\n\u001b[0;32m--> 189\u001b[0m fobj \u001b[38;5;241m=\u001b[39m \u001b[43m_dispatch_dict\u001b[49m\u001b[43m[\u001b[49m\u001b[43mext\u001b[49m\u001b[43m]\u001b[49m\u001b[43m(\u001b[49m\u001b[43mpath\u001b[49m\u001b[43m,\u001b[49m\u001b[43m \u001b[49m\u001b[43mmode\u001b[49m\u001b[38;5;241;43m=\u001b[39;49m\u001b[43mmode\u001b[49m\u001b[43m)\u001b[49m\n\u001b[1;32m    190\u001b[0m \u001b[38;5;28;01mreturn\u001b[39;00m fobj, \u001b[38;5;28;01mlambda\u001b[39;00m: fobj\u001b[38;5;241m.\u001b[39mclose()\n",
      "\u001b[0;31mFileNotFoundError\u001b[0m: [Errno 2] No such file or directory: 'full_concept_graph.gml'"
     ]
    }
   ],
   "source": [
    "# Load from a previously serialised SnomedGraph\n",
    "SG = SnomedGraph.from_serialized(\"full_concept_graph.gml\")"
   ]
  },
  {
   "cell_type": "code",
   "execution_count": 4,
   "id": "414da528-e4b3-4858-ae7c-c4011c366577",
   "metadata": {},
   "outputs": [
    {
     "ename": "NameError",
     "evalue": "name 'SG' is not defined",
     "output_type": "error",
     "traceback": [
      "\u001b[0;31m---------------------------------------------------------------------------\u001b[0m",
      "\u001b[0;31mNameError\u001b[0m                                 Traceback (most recent call last)",
      "Cell \u001b[0;32mIn[4], line 3\u001b[0m\n\u001b[1;32m      1\u001b[0m \u001b[38;5;66;03m# A SnomedConceptDetails object contains just the SCTID, FSN and Synonyms.\u001b[39;00m\n\u001b[1;32m      2\u001b[0m \u001b[38;5;66;03m# Most functions return these.\u001b[39;00m\n\u001b[0;32m----> 3\u001b[0m concept_details \u001b[38;5;241m=\u001b[39m \u001b[43mSG\u001b[49m\u001b[38;5;241m.\u001b[39mget_concept_details(\u001b[38;5;241m35241000\u001b[39m)\n\u001b[1;32m      4\u001b[0m \u001b[38;5;28mprint\u001b[39m(concept_details)\n",
      "\u001b[0;31mNameError\u001b[0m: name 'SG' is not defined"
     ]
    }
   ],
   "source": [
    "# A SnomedConceptDetails object contains just the SCTID, FSN and Synonyms.\n",
    "# Most functions return these.\n",
    "concept_details = SG.get_concept_details(35241000)\n",
    "print(concept_details)"
   ]
  },
  {
   "cell_type": "code",
   "execution_count": 7,
   "id": "f8282ab8-b68e-4e06-9ef9-ecdcab52a812",
   "metadata": {},
   "outputs": [
    {
     "ename": "NameError",
     "evalue": "name 'concept_details' is not defined",
     "output_type": "error",
     "traceback": [
      "\u001b[0;31m---------------------------------------------------------------------------\u001b[0m",
      "\u001b[0;31mNameError\u001b[0m                                 Traceback (most recent call last)",
      "Cell \u001b[0;32mIn[7], line 2\u001b[0m\n\u001b[1;32m      1\u001b[0m \u001b[38;5;66;03m# The following attributes are available\u001b[39;00m\n\u001b[0;32m----> 2\u001b[0m \u001b[43mconcept_details\u001b[49m\u001b[38;5;241m.\u001b[39msctid\n\u001b[1;32m      3\u001b[0m concept_details\u001b[38;5;241m.\u001b[39mfsn\n\u001b[1;32m      4\u001b[0m concept_details\u001b[38;5;241m.\u001b[39msynonyms\n",
      "\u001b[0;31mNameError\u001b[0m: name 'concept_details' is not defined"
     ]
    }
   ],
   "source": [
    "# The following attributes are available\n",
    "concept_details.sctid\n",
    "concept_details.fsn\n",
    "concept_details.synonyms"
   ]
  },
  {
   "cell_type": "code",
   "execution_count": 7,
   "id": "b03489e7-4935-4813-81c4-4f4c12f4959f",
   "metadata": {},
   "outputs": [
    {
     "name": "stdout",
     "output_type": "stream",
     "text": [
      "35241000 | Cholecystostomy (procedure)\n",
      "\n",
      "Synonyms:\n",
      "['Cholecystostomy']\n",
      "\n",
      "Parents:\n",
      "45584003 | Repair of gallbladder (procedure)\n",
      "363123009 | Exteriorization by anatomic site (procedure)\n",
      "\n",
      "Children:\n",
      "174525001 | Percutaneous cholecystostomy (procedure)\n",
      "66444008 | Irrigation cholecystostomy (procedure)\n",
      "439781002 | Insertion of peripancreatic drain with cholecystostomy (procedure)\n",
      "450500003 | Laparoscopic cholecystostomy (procedure)\n",
      "711210005 | Cholecystostomy using computed tomography guidance (procedure)\n",
      "711424006 | Cholecystostomy using ultrasonographic guidance (procedure)\n",
      "\n",
      "Inferred Relationships:\n",
      "Group 1\n",
      "\t[35241000 | Cholecystostomy (procedure)] ---[Method (attribute)]---> [129354008 | Exteriorization - action (qualifier value)]\n",
      "\t[35241000 | Cholecystostomy (procedure)] ---[Procedure site - Direct (attribute)]---> [28231008 | Gallbladder structure (body structure)]\n"
     ]
    }
   ],
   "source": [
    "# A full SnomedConcept object contains lots of detailed information\n",
    "full_concept = SG.get_full_concept(35241000)\n",
    "print(full_concept)"
   ]
  },
  {
   "cell_type": "code",
   "execution_count": 11,
   "id": "69df1bb7-313f-4643-b78a-747a9c456262",
   "metadata": {},
   "outputs": [
    {
     "data": {
      "text/plain": [
       "'Exteriorization - action (qualifier value)'"
      ]
     },
     "execution_count": 11,
     "metadata": {},
     "output_type": "execute_result"
    }
   ],
   "source": [
    "# You can access all of the elements you see above.  \n",
    "full_concept.concept_details\n",
    "full_concept.parents\n",
    "full_concept.children\n",
    "full_concept.inferred_relationship_groups[0].relationships[0].tgt.fsn"
   ]
  },
  {
   "cell_type": "code",
   "execution_count": 6,
   "id": "19bb8738-d95a-432f-bd97-9c80449e9ff7",
   "metadata": {},
   "outputs": [
    {
     "name": "stdout",
     "output_type": "stream",
     "text": [
      "363123009 | Exteriorization by anatomic site (procedure)\n",
      "45584003 | Repair of gallbladder (procedure)\n",
      "19744006 | Operation on gallbladder (procedure)\n",
      "119928009 | Biliary tract repair (procedure)\n",
      "362958002 | Procedure by site (procedure)\n",
      "59719002 | Exteriorization (procedure)\n"
     ]
    }
   ],
   "source": [
    "# Get parents and grandparents (using steps_removed=2) \n",
    "# Returns iterator of ConceptDetails.\n",
    "for concept_details in SG.get_ancestors(35241000, steps_removed=2):\n",
    "    print(concept_details)"
   ]
  },
  {
   "cell_type": "code",
   "execution_count": 7,
   "id": "cc24a56d-854f-45b9-ac5c-a1ef74e63827",
   "metadata": {},
   "outputs": [
    {
     "name": "stdout",
     "output_type": "stream",
     "text": [
      "450500003 | Laparoscopic cholecystostomy (procedure)\n",
      "711210005 | Cholecystostomy using computed tomography guidance (procedure)\n",
      "711424006 | Cholecystostomy using ultrasonographic guidance (procedure)\n",
      "66444008 | Irrigation cholecystostomy (procedure)\n",
      "174525001 | Percutaneous cholecystostomy (procedure)\n",
      "439781002 | Insertion of peripancreatic drain with cholecystostomy (procedure)\n",
      "442833003 | Percutaneous cholecystostomy and drainage using ultrasound guidance (procedure)\n"
     ]
    }
   ],
   "source": [
    "# Get all descendants.  (no steps_removed given so all descendants are returned).\n",
    "# Returns an iterator of ConceptDetails.\n",
    "for concept in SG.get_descendants(35241000):\n",
    "    print(concept)"
   ]
  },
  {
   "cell_type": "code",
   "execution_count": 8,
   "id": "f611e90c-6759-4c41-a233-24e6c93ad1eb",
   "metadata": {
    "scrolled": true
   },
   "outputs": [
    {
     "name": "stdout",
     "output_type": "stream",
     "text": [
      "33899008 | Drainage of spleen by marsupialization (procedure)\n",
      "697984004 | Exteriorization of trachea (procedure)\n",
      "258176004 | Computed tomography guidance (procedure)\n",
      "711424006 | Cholecystostomy using ultrasonographic guidance (procedure)\n",
      "174432007 | Marsupialization of liver lesion (procedure)\n",
      "302389000 | Marsupialization of skin lesion (procedure)\n",
      "440064006 | Marsupialization of diverticulum of urethra (procedure)\n",
      "19744006 | Operation on gallbladder (procedure)\n",
      "13685004 | Pharyngostomy (procedure)\n",
      "51146001 | Formation of cutaneous ureterostomy (procedure)\n",
      "238282004 | Peritoneal pseudocyst marsupialization (procedure)\n",
      "711210005 | Cholecystostomy using computed tomography guidance (procedure)\n",
      "119924006 | Gallbladder closure (procedure)\n",
      "447124007 | Marsupialization of lesion of kidney (procedure)\n",
      "51316009 | Laparoscopic procedure (procedure)\n",
      "235177002 | Creation of cervical tube esophagostomy (procedure)\n",
      "118825001 | Procedure on pancreas (procedure)\n",
      "232542003 | Marsupialization of pharyngeal cyst (procedure)\n",
      "363123009 | Exteriorization by anatomic site (procedure)\n",
      "40328001 | Exteriorization of maxillary sinus (procedure)\n",
      "80104006 | Exteriorization of carotid artery (procedure)\n",
      "174525001 | Percutaneous cholecystostomy (procedure)\n",
      "118738001 | Procedure on soft tissue (procedure)\n",
      "264274002 | Endoscopic operation (procedure)\n",
      "71794007 | Marsupialization of splenic cyst (procedure)\n",
      "59719002 | Exteriorization (procedure)\n",
      "397159007 | Exteriorization of intestine (procedure)\n",
      "307175009 | Marsupialization of submandibular duct (procedure)\n",
      "57212002 | Calico-ileoneocystostomy (procedure)\n",
      "42332004 | Fistulization of appendix (procedure)\n",
      "442833003 | Percutaneous cholecystostomy and drainage using ultrasound guidance (procedure)\n",
      "426577005 | Marsupialization of lacrimal canaliculus (procedure)\n",
      "442737009 | Appendicovesicostomy (procedure)\n",
      "444593009 | Marsupialization of cyst of pancreas (procedure)\n",
      "173339007 | Marsupialization of dental lesion of jaw (procedure)\n",
      "45584003 | Repair of gallbladder (procedure)\n",
      "307664006 | Marsupialization of pilonidal sinus (procedure)\n",
      "440549000 | Insertion of peripancreatic drain with jejunostomy (procedure)\n",
      "439781002 | Insertion of peripancreatic drain with cholecystostomy (procedure)\n",
      "238277006 | Peritoneal cyst marsupialization (procedure)\n",
      "176666008 | Marsupialization of lesion of vagina (procedure)\n",
      "70031002 | Oophorostomy (procedure)\n",
      "447055003 | Marsupialization of cyst of uterine cervix (procedure)\n",
      "418863006 | Computed tomography of biliary tract (procedure)\n",
      "239375009 | Marsupialization of lesion of bone of face (procedure)\n",
      "128399009 | Anastomosis of gall bladder (procedure)\n",
      "450500003 | Laparoscopic cholecystostomy (procedure)\n",
      "363321000 | Surgical repair procedure by device (procedure)\n",
      "307257002 | Marsupialization of sublingual cyst (procedure)\n",
      "61593002 | Ultrasonic guidance procedure (procedure)\n",
      "173977007 | Creation of ileostomy (procedure)\n",
      "302798000 | Gallbladder X-ray (procedure)\n",
      "57166001 | Marsupialization of prostate (procedure)\n",
      "362958002 | Procedure by site (procedure)\n",
      "176590003 | Marsupialization of Bartholin's gland (procedure)\n",
      "63417009 | Marsupialization of cyst of spinal meninges (procedure)\n",
      "265614009 | Marsupialization of lesion of vulva (procedure)\n",
      "441763001 | Endoscopic exteriorization of third ventricle (procedure)\n",
      "234915008 | Marsupialization of lesion of brain (procedure)\n",
      "738552004 | Partial resection of colon with stoma (procedure)\n",
      "172888008 | Radical frontal sinus antrostomy (procedure)\n",
      "119928009 | Biliary tract repair (procedure)\n",
      "169250003 | Ultrasound scan of gallbladder (procedure)\n",
      "27191003 | Repair of laceration of gallbladder (procedure)\n",
      "119927004 | Gallbladder reconstruction (procedure)\n",
      "64119005 | Marsupialization of cyst of kidney (procedure)\n",
      "177015007 | Marsupialization of lesion of ovary (procedure)\n",
      "231628000 | Marsupialization of dacryocele (procedure)\n",
      "709100000 | Marsupialization of cyst of salivary gland (procedure)\n",
      "53580003 | Marsupialization of cyst of larynx (procedure)\n",
      "232652005 | Cavernostomizing of bulla of lung (procedure)\n",
      "698956007 | Insertion of drain (procedure)\n",
      "66444008 | Irrigation cholecystostomy (procedure)\n",
      "51233000 | Sigmoidostomy (procedure)\n",
      "172737003 | Cochleostomy (procedure)\n",
      "238230001 | Marsupialization of cyst of abdominal wall (procedure)\n",
      "30582003 | Duodenostomy (procedure)\n",
      "281590006 | Exteriorization of brain ventricular shunt (procedure)\n",
      "708587003 | Marsupialization of abscess of pharynx (procedure)\n",
      "55531006 | Urethrostomy (procedure)\n"
     ]
    }
   ],
   "source": [
    "# Get neighbourhood: here we pick all concepts linked by an \"is a\" path of length 2 or less.  \n",
    "# i.e. parents, grandparents, siblings, children, grandchildren and \"spouses\".\n",
    "for concept_details in SG.get_neighbourhood(35241000, 2):\n",
    "    print(concept_details)"
   ]
  },
  {
   "cell_type": "code",
   "execution_count": 9,
   "id": "33e7f35d-a704-4b1e-b3e8-5357a3281a5a",
   "metadata": {
    "scrolled": true
   },
   "outputs": [
    {
     "data": {
      "text/plain": [
       "{'Access (attribute)',\n",
       " 'After (attribute)',\n",
       " 'Associated finding (attribute)',\n",
       " 'Associated morphology (attribute)',\n",
       " 'Associated procedure (attribute)',\n",
       " 'Associated with (attribute)',\n",
       " 'Before (attribute)',\n",
       " 'Causative agent (attribute)',\n",
       " 'Characterizes (attribute)',\n",
       " 'Clinical course (attribute)',\n",
       " 'Component (attribute)',\n",
       " 'Direct device (attribute)',\n",
       " 'Direct morphology (attribute)',\n",
       " 'Direct site (attribute)',\n",
       " 'Direct substance (attribute)',\n",
       " 'Due to (attribute)',\n",
       " 'During (attribute)',\n",
       " 'Finding context (attribute)',\n",
       " 'Finding informer (attribute)',\n",
       " 'Finding method (attribute)',\n",
       " 'Finding site (attribute)',\n",
       " 'Has absorbability (attribute)',\n",
       " 'Has active ingredient (attribute)',\n",
       " 'Has basic dose form (attribute)',\n",
       " 'Has basis of strength substance (attribute)',\n",
       " 'Has coating material (attribute)',\n",
       " 'Has compositional material (attribute)',\n",
       " 'Has concentration strength denominator unit (attribute)',\n",
       " 'Has concentration strength numerator unit (attribute)',\n",
       " 'Has device intended site (attribute)',\n",
       " 'Has disposition (attribute)',\n",
       " 'Has dose form administration method (attribute)',\n",
       " 'Has dose form intended site (attribute)',\n",
       " 'Has dose form release characteristic (attribute)',\n",
       " 'Has dose form transformation (attribute)',\n",
       " 'Has filling (attribute)',\n",
       " 'Has focus (attribute)',\n",
       " 'Has ingredient qualitative strength (attribute)',\n",
       " 'Has intent (attribute)',\n",
       " 'Has interpretation (attribute)',\n",
       " 'Has manufactured dose form (attribute)',\n",
       " 'Has precise active ingredient (attribute)',\n",
       " 'Has presentation strength denominator unit (attribute)',\n",
       " 'Has presentation strength numerator unit (attribute)',\n",
       " 'Has realization (attribute)',\n",
       " 'Has specimen (attribute)',\n",
       " 'Has state of matter (attribute)',\n",
       " 'Has surface texture (attribute)',\n",
       " 'Has target population (attribute)',\n",
       " 'Has unit of presentation (attribute)',\n",
       " 'Indirect device (attribute)',\n",
       " 'Indirect morphology (attribute)',\n",
       " 'Inherent location (attribute)',\n",
       " 'Inheres in (attribute)',\n",
       " 'Interprets (attribute)',\n",
       " 'Is a (attribute)',\n",
       " 'Is modification of (attribute)',\n",
       " 'Is sterile (attribute)',\n",
       " 'Laterality (attribute)',\n",
       " 'Measurement method (attribute)',\n",
       " 'Method (attribute)',\n",
       " 'Occurrence (attribute)',\n",
       " 'Pathological process (attribute)',\n",
       " 'Plays role (attribute)',\n",
       " 'Precondition (attribute)',\n",
       " 'Priority (attribute)',\n",
       " 'Procedure context (attribute)',\n",
       " 'Procedure device (attribute)',\n",
       " 'Procedure morphology (attribute)',\n",
       " 'Procedure site (attribute)',\n",
       " 'Procedure site - Direct (attribute)',\n",
       " 'Procedure site - Indirect (attribute)',\n",
       " 'Process acts on (attribute)',\n",
       " 'Process duration (attribute)',\n",
       " 'Process extends to (attribute)',\n",
       " 'Process output (attribute)',\n",
       " 'Property (attribute)',\n",
       " 'Recipient category (attribute)',\n",
       " 'Relative to (attribute)',\n",
       " 'Relative to part of (attribute)',\n",
       " 'Revision status (attribute)',\n",
       " 'Route of administration (attribute)',\n",
       " 'Scale type (attribute)',\n",
       " 'Severity (attribute)',\n",
       " 'Specimen procedure (attribute)',\n",
       " 'Specimen source identity (attribute)',\n",
       " 'Specimen source morphology (attribute)',\n",
       " 'Specimen source topography (attribute)',\n",
       " 'Specimen substance (attribute)',\n",
       " 'Subject relationship context (attribute)',\n",
       " 'Surgical approach (attribute)',\n",
       " 'Technique (attribute)',\n",
       " 'Temporal context (attribute)',\n",
       " 'Temporally related to (attribute)',\n",
       " 'Time aspect (attribute)',\n",
       " 'Units (attribute)',\n",
       " 'Using access device (attribute)',\n",
       " 'Using device (attribute)',\n",
       " 'Using energy (attribute)',\n",
       " 'Using substance (attribute)'}"
      ]
     },
     "execution_count": 9,
     "metadata": {},
     "output_type": "execute_result"
    }
   ],
   "source": [
    "# All the relationship types that exist in the SnomedGraph.\n",
    "SG.relationship_types"
   ]
  },
  {
   "cell_type": "code",
   "execution_count": 10,
   "id": "33678ec7-934d-4054-a902-593f9c72b441",
   "metadata": {},
   "outputs": [
    {
     "name": "stdout",
     "output_type": "stream",
     "text": [
      "[35241000 | Cholecystostomy (procedure)] ---[Procedure site - Direct (attribute)]---> [28231008 | Gallbladder structure (body structure)] ---[Is a (attribute)]---> [34707002 | Biliary tract structure (body structure)]\n"
     ]
    }
   ],
   "source": [
    "# Find the path between any two concepts.\n",
    "# N.B. this will only return directional paths, e.g. \"spouses\", cousins will not be returned.\n",
    "# The \"print_\" kwarg will cause the function to print the full path, as below.\n",
    "# It will return the list of SnomedRelationships in the chain.\n",
    "path = SG.find_path(35241000, 34707002, print_=True)"
   ]
  },
  {
   "cell_type": "code",
   "execution_count": 14,
   "id": "6181c8ca-7eb1-4633-a551-907a37a7ac3a",
   "metadata": {},
   "outputs": [],
   "source": [
    "# Iterate over concepts\n",
    "# yields ConceptDetails\n",
    "for concept_details in SG:\n",
    "    pass"
   ]
  },
  {
   "cell_type": "code",
   "execution_count": 12,
   "id": "4c0d0d0f-8c0d-4c6e-b4fe-30fbb170714c",
   "metadata": {},
   "outputs": [
    {
     "name": "stdout",
     "output_type": "stream",
     "text": [
      "219169 concepts have been selected.\n"
     ]
    }
   ],
   "source": [
    "# Retrieve all procedures, body structures and clinical findings.\n",
    "concepts_in_scope = SG.get_descendants(71388002) | SG.get_descendants(123037004) | SG.get_descendants(404684003)\n",
    "print(f\"{len(concepts_in_scope)} concepts have been selected.\")"
   ]
  },
  {
   "cell_type": "code",
   "execution_count": 13,
   "id": "5d1a6391-f9a3-4462-8024-c3d36f6e15d8",
   "metadata": {},
   "outputs": [],
   "source": [
    "# Fetch nodes and edges as Pandas DataFrames\n",
    "nodes_df, edges_df = SG.to_pandas()"
   ]
  },
  {
   "cell_type": "code",
   "execution_count": 14,
   "id": "7cdbde1b-52ad-465a-ba92-e39641d0548d",
   "metadata": {},
   "outputs": [
    {
     "data": {
      "text/html": [
       "<div>\n",
       "<style scoped>\n",
       "    .dataframe tbody tr th:only-of-type {\n",
       "        vertical-align: middle;\n",
       "    }\n",
       "\n",
       "    .dataframe tbody tr th {\n",
       "        vertical-align: top;\n",
       "    }\n",
       "\n",
       "    .dataframe thead th {\n",
       "        text-align: right;\n",
       "    }\n",
       "</style>\n",
       "<table border=\"1\" class=\"dataframe\">\n",
       "  <thead>\n",
       "    <tr style=\"text-align: right;\">\n",
       "      <th></th>\n",
       "      <th>fsn</th>\n",
       "      <th>synonyms</th>\n",
       "    </tr>\n",
       "    <tr>\n",
       "      <th>sctid</th>\n",
       "      <th></th>\n",
       "      <th></th>\n",
       "    </tr>\n",
       "  </thead>\n",
       "  <tbody>\n",
       "    <tr>\n",
       "      <th>420178002</th>\n",
       "      <td>Product containing cinchocaine and hydrocortis...</td>\n",
       "      <td>[Dibucaine- and hydrocortisone-containing prod...</td>\n",
       "    </tr>\n",
       "    <tr>\n",
       "      <th>129110009</th>\n",
       "      <td>Exploration of retroperitoneal area with biops...</td>\n",
       "      <td>[Exploration of retroperitoneal area with biopsy]</td>\n",
       "    </tr>\n",
       "    <tr>\n",
       "      <th>340922009</th>\n",
       "      <td>Partial hip replacement by cup (procedure)</td>\n",
       "      <td>[Partial hip replacement by cup, Cup arthropla...</td>\n",
       "    </tr>\n",
       "  </tbody>\n",
       "</table>\n",
       "</div>"
      ],
      "text/plain": [
       "                                                         fsn  \\\n",
       "sctid                                                          \n",
       "420178002  Product containing cinchocaine and hydrocortis...   \n",
       "129110009  Exploration of retroperitoneal area with biops...   \n",
       "340922009         Partial hip replacement by cup (procedure)   \n",
       "\n",
       "                                                    synonyms  \n",
       "sctid                                                         \n",
       "420178002  [Dibucaine- and hydrocortisone-containing prod...  \n",
       "129110009  [Exploration of retroperitoneal area with biopsy]  \n",
       "340922009  [Partial hip replacement by cup, Cup arthropla...  "
      ]
     },
     "execution_count": 14,
     "metadata": {},
     "output_type": "execute_result"
    }
   ],
   "source": [
    "nodes_df.sample(3)"
   ]
  },
  {
   "cell_type": "code",
   "execution_count": 15,
   "id": "7c6e6c83-b8d2-4bf1-8d1d-af12d4556013",
   "metadata": {},
   "outputs": [
    {
     "data": {
      "text/html": [
       "<div>\n",
       "<style scoped>\n",
       "    .dataframe tbody tr th:only-of-type {\n",
       "        vertical-align: middle;\n",
       "    }\n",
       "\n",
       "    .dataframe tbody tr th {\n",
       "        vertical-align: top;\n",
       "    }\n",
       "\n",
       "    .dataframe thead th {\n",
       "        text-align: right;\n",
       "    }\n",
       "</style>\n",
       "<table border=\"1\" class=\"dataframe\">\n",
       "  <thead>\n",
       "    <tr style=\"text-align: right;\">\n",
       "      <th></th>\n",
       "      <th>source</th>\n",
       "      <th>target</th>\n",
       "      <th>type</th>\n",
       "      <th>type_id</th>\n",
       "      <th>group</th>\n",
       "    </tr>\n",
       "  </thead>\n",
       "  <tbody>\n",
       "    <tr>\n",
       "      <th>659395</th>\n",
       "      <td>426692001</td>\n",
       "      <td>1255413004</td>\n",
       "      <td>Is a (attribute)</td>\n",
       "      <td>116680003</td>\n",
       "      <td>0</td>\n",
       "    </tr>\n",
       "    <tr>\n",
       "      <th>1060046</th>\n",
       "      <td>874868004</td>\n",
       "      <td>89811004</td>\n",
       "      <td>Process acts on (attribute)</td>\n",
       "      <td>1003735000</td>\n",
       "      <td>3</td>\n",
       "    </tr>\n",
       "    <tr>\n",
       "      <th>844381</th>\n",
       "      <td>714036005</td>\n",
       "      <td>54711002</td>\n",
       "      <td>Is a (attribute)</td>\n",
       "      <td>116680003</td>\n",
       "      <td>0</td>\n",
       "    </tr>\n",
       "  </tbody>\n",
       "</table>\n",
       "</div>"
      ],
      "text/plain": [
       "            source      target                         type     type_id  group\n",
       "659395   426692001  1255413004             Is a (attribute)   116680003      0\n",
       "1060046  874868004    89811004  Process acts on (attribute)  1003735000      3\n",
       "844381   714036005    54711002             Is a (attribute)   116680003      0"
      ]
     },
     "execution_count": 15,
     "metadata": {},
     "output_type": "execute_result"
    }
   ],
   "source": [
    "edges_df.sample(3)"
   ]
  },
  {
   "cell_type": "code",
   "execution_count": 16,
   "id": "0e2615b7-3914-4b76-90c5-74f759d9e270",
   "metadata": {},
   "outputs": [],
   "source": [
    "# Serialize\n",
    "SG.save(\"full_concept_graph.gml\")"
   ]
  },
  {
   "cell_type": "code",
   "execution_count": 8,
   "id": "13135973",
   "metadata": {},
   "outputs": [],
   "source": [
    "### \n",
    "from pathlib import Path\n",
    "import pandas as pd\n",
    "\n",
    "\n",
    "def load_snomed_df(data_path):\n",
    "    \"\"\"\n",
    "    Create a SNOMED CT concept DataFrame.\n",
    "\n",
    "    Derived from: https://github.com/CogStack/MedCAT/blob/master/medcat/utils/preprocess_snomed.py\n",
    "\n",
    "    Returns:\n",
    "        pandas.DataFrame: SNOMED CT concept DataFrame.\n",
    "    \"\"\"\n",
    "\n",
    "    def _read_file_and_subset_to_active(filename):\n",
    "        with open(filename, encoding=\"utf-8\") as f:\n",
    "            entities = [[n.strip() for n in line.split(\"\\t\")] for line in f]\n",
    "            df = pd.DataFrame(entities[1:], columns=entities[0])\n",
    "        return df[df.active == \"1\"]\n",
    "\n",
    "    active_terms = _read_file_and_subset_to_active(\n",
    "        data_path / \"sct2_Concept_Snapshot_INT_20230531.txt\"\n",
    "    )\n",
    "    active_descs = _read_file_and_subset_to_active(\n",
    "        data_path / \"sct2_Description_Snapshot-en_INT_20230531.txt\"\n",
    "    )\n",
    "\n",
    "    df = pd.merge(active_terms, active_descs, left_on=[\"id\"], right_on=[\"conceptId\"], how=\"inner\")[\n",
    "        [\"id_x\", \"term\", \"typeId\"]\n",
    "    ].rename(columns={\"id_x\": \"concept_id\", \"term\": \"concept_name\", \"typeId\": \"name_type\"})\n",
    "\n",
    "    # active description or active synonym\n",
    "    df[\"name_type\"] = df[\"name_type\"].replace(\n",
    "        [\"900000000000003001\", \"900000000000013009\"], [\"P\", \"A\"]\n",
    "    )\n",
    "    active_snomed_df = df[df.name_type.isin([\"P\", \"A\"])]\n",
    "\n",
    "    active_snomed_df[\"hierarchy\"] = active_snomed_df[\"concept_name\"].str.extract(\n",
    "        r\"\\((\\w+\\s?.?\\s?\\w+.?\\w+.?\\w+.?)\\)$\"\n",
    "    )\n",
    "    active_snomed_df = active_snomed_df[active_snomed_df.hierarchy.notnull()].reset_index(drop=True)\n",
    "    return active_snomed_df\n",
    "\n"
   ]
  },
  {
   "cell_type": "code",
   "execution_count": 10,
   "id": "b2c48dee",
   "metadata": {},
   "outputs": [
    {
     "ename": "FileNotFoundError",
     "evalue": "[Errno 2] No such file or directory: 'SnomedCT_InternationalRF2_PRODUCTION_20230531T120000Z_Challenge_Edition/Snapshot/Terminology/sct2_Concept_Snapshot_INT_20230531.txt'",
     "output_type": "error",
     "traceback": [
      "\u001b[0;31m---------------------------------------------------------------------------\u001b[0m",
      "\u001b[0;31mFileNotFoundError\u001b[0m                         Traceback (most recent call last)",
      "Cell \u001b[0;32mIn[10], line 6\u001b[0m\n\u001b[1;32m      1\u001b[0m snomed_rf2_path \u001b[38;5;241m=\u001b[39m Path(\n\u001b[1;32m      2\u001b[0m     \u001b[38;5;124m\"\u001b[39m\u001b[38;5;124mSnomedCT_InternationalRF2_PRODUCTION_20230531T120000Z_Challenge_Edition\u001b[39m\u001b[38;5;124m\"\u001b[39m\n\u001b[1;32m      3\u001b[0m )\n\u001b[1;32m      5\u001b[0m \u001b[38;5;66;03m# load the SNOMED release\u001b[39;00m\n\u001b[0;32m----> 6\u001b[0m df \u001b[38;5;241m=\u001b[39m \u001b[43mload_snomed_df\u001b[49m\u001b[43m(\u001b[49m\u001b[43msnomed_rf2_path\u001b[49m\u001b[43m \u001b[49m\u001b[38;5;241;43m/\u001b[39;49m\u001b[43m \u001b[49m\u001b[38;5;124;43m\"\u001b[39;49m\u001b[38;5;124;43mSnapshot\u001b[39;49m\u001b[38;5;124;43m\"\u001b[39;49m\u001b[43m \u001b[49m\u001b[38;5;241;43m/\u001b[39;49m\u001b[43m \u001b[49m\u001b[38;5;124;43m\"\u001b[39;49m\u001b[38;5;124;43mTerminology\u001b[39;49m\u001b[38;5;124;43m\"\u001b[39;49m\u001b[43m)\u001b[49m\n\u001b[1;32m      7\u001b[0m df\u001b[38;5;241m.\u001b[39mshape[\u001b[38;5;241m0\u001b[39m]\n",
      "Cell \u001b[0;32mIn[8], line 22\u001b[0m, in \u001b[0;36mload_snomed_df\u001b[0;34m(data_path)\u001b[0m\n\u001b[1;32m     19\u001b[0m         df \u001b[38;5;241m=\u001b[39m pd\u001b[38;5;241m.\u001b[39mDataFrame(entities[\u001b[38;5;241m1\u001b[39m:], columns\u001b[38;5;241m=\u001b[39mentities[\u001b[38;5;241m0\u001b[39m])\n\u001b[1;32m     20\u001b[0m     \u001b[38;5;28;01mreturn\u001b[39;00m df[df\u001b[38;5;241m.\u001b[39mactive \u001b[38;5;241m==\u001b[39m \u001b[38;5;124m\"\u001b[39m\u001b[38;5;124m1\u001b[39m\u001b[38;5;124m\"\u001b[39m]\n\u001b[0;32m---> 22\u001b[0m active_terms \u001b[38;5;241m=\u001b[39m \u001b[43m_read_file_and_subset_to_active\u001b[49m\u001b[43m(\u001b[49m\n\u001b[1;32m     23\u001b[0m \u001b[43m    \u001b[49m\u001b[43mdata_path\u001b[49m\u001b[43m \u001b[49m\u001b[38;5;241;43m/\u001b[39;49m\u001b[43m \u001b[49m\u001b[38;5;124;43m\"\u001b[39;49m\u001b[38;5;124;43msct2_Concept_Snapshot_INT_20230531.txt\u001b[39;49m\u001b[38;5;124;43m\"\u001b[39;49m\n\u001b[1;32m     24\u001b[0m \u001b[43m\u001b[49m\u001b[43m)\u001b[49m\n\u001b[1;32m     25\u001b[0m active_descs \u001b[38;5;241m=\u001b[39m _read_file_and_subset_to_active(\n\u001b[1;32m     26\u001b[0m     data_path \u001b[38;5;241m/\u001b[39m \u001b[38;5;124m\"\u001b[39m\u001b[38;5;124msct2_Description_Snapshot-en_INT_20230531.txt\u001b[39m\u001b[38;5;124m\"\u001b[39m\n\u001b[1;32m     27\u001b[0m )\n\u001b[1;32m     29\u001b[0m df \u001b[38;5;241m=\u001b[39m pd\u001b[38;5;241m.\u001b[39mmerge(active_terms, active_descs, left_on\u001b[38;5;241m=\u001b[39m[\u001b[38;5;124m\"\u001b[39m\u001b[38;5;124mid\u001b[39m\u001b[38;5;124m\"\u001b[39m], right_on\u001b[38;5;241m=\u001b[39m[\u001b[38;5;124m\"\u001b[39m\u001b[38;5;124mconceptId\u001b[39m\u001b[38;5;124m\"\u001b[39m], how\u001b[38;5;241m=\u001b[39m\u001b[38;5;124m\"\u001b[39m\u001b[38;5;124minner\u001b[39m\u001b[38;5;124m\"\u001b[39m)[\n\u001b[1;32m     30\u001b[0m     [\u001b[38;5;124m\"\u001b[39m\u001b[38;5;124mid_x\u001b[39m\u001b[38;5;124m\"\u001b[39m, \u001b[38;5;124m\"\u001b[39m\u001b[38;5;124mterm\u001b[39m\u001b[38;5;124m\"\u001b[39m, \u001b[38;5;124m\"\u001b[39m\u001b[38;5;124mtypeId\u001b[39m\u001b[38;5;124m\"\u001b[39m]\n\u001b[1;32m     31\u001b[0m ]\u001b[38;5;241m.\u001b[39mrename(columns\u001b[38;5;241m=\u001b[39m{\u001b[38;5;124m\"\u001b[39m\u001b[38;5;124mid_x\u001b[39m\u001b[38;5;124m\"\u001b[39m: \u001b[38;5;124m\"\u001b[39m\u001b[38;5;124mconcept_id\u001b[39m\u001b[38;5;124m\"\u001b[39m, \u001b[38;5;124m\"\u001b[39m\u001b[38;5;124mterm\u001b[39m\u001b[38;5;124m\"\u001b[39m: \u001b[38;5;124m\"\u001b[39m\u001b[38;5;124mconcept_name\u001b[39m\u001b[38;5;124m\"\u001b[39m, \u001b[38;5;124m\"\u001b[39m\u001b[38;5;124mtypeId\u001b[39m\u001b[38;5;124m\"\u001b[39m: \u001b[38;5;124m\"\u001b[39m\u001b[38;5;124mname_type\u001b[39m\u001b[38;5;124m\"\u001b[39m})\n",
      "Cell \u001b[0;32mIn[8], line 17\u001b[0m, in \u001b[0;36mload_snomed_df.<locals>._read_file_and_subset_to_active\u001b[0;34m(filename)\u001b[0m\n\u001b[1;32m     16\u001b[0m \u001b[38;5;28;01mdef\u001b[39;00m \u001b[38;5;21m_read_file_and_subset_to_active\u001b[39m(filename):\n\u001b[0;32m---> 17\u001b[0m     \u001b[38;5;28;01mwith\u001b[39;00m \u001b[38;5;28;43mopen\u001b[39;49m\u001b[43m(\u001b[49m\u001b[43mfilename\u001b[49m\u001b[43m,\u001b[49m\u001b[43m \u001b[49m\u001b[43mencoding\u001b[49m\u001b[38;5;241;43m=\u001b[39;49m\u001b[38;5;124;43m\"\u001b[39;49m\u001b[38;5;124;43mutf-8\u001b[39;49m\u001b[38;5;124;43m\"\u001b[39;49m\u001b[43m)\u001b[49m \u001b[38;5;28;01mas\u001b[39;00m f:\n\u001b[1;32m     18\u001b[0m         entities \u001b[38;5;241m=\u001b[39m [[n\u001b[38;5;241m.\u001b[39mstrip() \u001b[38;5;28;01mfor\u001b[39;00m n \u001b[38;5;129;01min\u001b[39;00m line\u001b[38;5;241m.\u001b[39msplit(\u001b[38;5;124m\"\u001b[39m\u001b[38;5;130;01m\\t\u001b[39;00m\u001b[38;5;124m\"\u001b[39m)] \u001b[38;5;28;01mfor\u001b[39;00m line \u001b[38;5;129;01min\u001b[39;00m f]\n\u001b[1;32m     19\u001b[0m         df \u001b[38;5;241m=\u001b[39m pd\u001b[38;5;241m.\u001b[39mDataFrame(entities[\u001b[38;5;241m1\u001b[39m:], columns\u001b[38;5;241m=\u001b[39mentities[\u001b[38;5;241m0\u001b[39m])\n",
      "File \u001b[0;32m~/anaconda3/envs/py3/lib/python3.11/site-packages/IPython/core/interactiveshell.py:286\u001b[0m, in \u001b[0;36m_modified_open\u001b[0;34m(file, *args, **kwargs)\u001b[0m\n\u001b[1;32m    279\u001b[0m \u001b[38;5;28;01mif\u001b[39;00m file \u001b[38;5;129;01min\u001b[39;00m {\u001b[38;5;241m0\u001b[39m, \u001b[38;5;241m1\u001b[39m, \u001b[38;5;241m2\u001b[39m}:\n\u001b[1;32m    280\u001b[0m     \u001b[38;5;28;01mraise\u001b[39;00m \u001b[38;5;167;01mValueError\u001b[39;00m(\n\u001b[1;32m    281\u001b[0m         \u001b[38;5;124mf\u001b[39m\u001b[38;5;124m\"\u001b[39m\u001b[38;5;124mIPython won\u001b[39m\u001b[38;5;124m'\u001b[39m\u001b[38;5;124mt let you open fd=\u001b[39m\u001b[38;5;132;01m{\u001b[39;00mfile\u001b[38;5;132;01m}\u001b[39;00m\u001b[38;5;124m by default \u001b[39m\u001b[38;5;124m\"\u001b[39m\n\u001b[1;32m    282\u001b[0m         \u001b[38;5;124m\"\u001b[39m\u001b[38;5;124mas it is likely to crash IPython. If you know what you are doing, \u001b[39m\u001b[38;5;124m\"\u001b[39m\n\u001b[1;32m    283\u001b[0m         \u001b[38;5;124m\"\u001b[39m\u001b[38;5;124myou can use builtins\u001b[39m\u001b[38;5;124m'\u001b[39m\u001b[38;5;124m open.\u001b[39m\u001b[38;5;124m\"\u001b[39m\n\u001b[1;32m    284\u001b[0m     )\n\u001b[0;32m--> 286\u001b[0m \u001b[38;5;28;01mreturn\u001b[39;00m \u001b[43mio_open\u001b[49m\u001b[43m(\u001b[49m\u001b[43mfile\u001b[49m\u001b[43m,\u001b[49m\u001b[43m \u001b[49m\u001b[38;5;241;43m*\u001b[39;49m\u001b[43margs\u001b[49m\u001b[43m,\u001b[49m\u001b[43m \u001b[49m\u001b[38;5;241;43m*\u001b[39;49m\u001b[38;5;241;43m*\u001b[39;49m\u001b[43mkwargs\u001b[49m\u001b[43m)\u001b[49m\n",
      "\u001b[0;31mFileNotFoundError\u001b[0m: [Errno 2] No such file or directory: 'SnomedCT_InternationalRF2_PRODUCTION_20230531T120000Z_Challenge_Edition/Snapshot/Terminology/sct2_Concept_Snapshot_INT_20230531.txt'"
     ]
    }
   ],
   "source": [
    "snomed_rf2_path = Path(\n",
    "    \"SnomedCT_InternationalRF2_PRODUCTION_20230531T120000Z_Challenge_Edition\"\n",
    ")\n",
    "\n",
    "# load the SNOMED release\n",
    "df = load_snomed_df(snomed_rf2_path / \"Snapshot\" / \"Terminology\")\n",
    "df.shape[0]"
   ]
  }
 ],
 "metadata": {
  "kernelspec": {
   "display_name": "Python 3 (ipykernel)",
   "language": "python",
   "name": "python3"
  },
  "language_info": {
   "codemirror_mode": {
    "name": "ipython",
    "version": 3
   },
   "file_extension": ".py",
   "mimetype": "text/x-python",
   "name": "python",
   "nbconvert_exporter": "python",
   "pygments_lexer": "ipython3",
   "version": "3.11.4"
  }
 },
 "nbformat": 4,
 "nbformat_minor": 5
}
